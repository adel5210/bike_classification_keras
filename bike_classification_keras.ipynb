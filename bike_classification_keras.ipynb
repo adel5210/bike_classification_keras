{
 "cells": [
  {
   "cell_type": "code",
   "execution_count": 159,
   "id": "c9df7b36",
   "metadata": {},
   "outputs": [],
   "source": [
    "import pandas as pd\n",
    "from sklearn.model_selection import train_test_split\n",
    "from sklearn.preprocessing import LabelEncoder\n",
    "from keras.models import Sequential\n",
    "from keras.layers import Dense, Input"
   ]
  },
  {
   "cell_type": "code",
   "execution_count": 160,
   "id": "241bf7c4",
   "metadata": {},
   "outputs": [],
   "source": [
    "data = pd.read_csv('keras_test.csv')"
   ]
  },
  {
   "cell_type": "code",
   "execution_count": 161,
   "id": "e0035bc1",
   "metadata": {},
   "outputs": [],
   "source": [
    "numeric_data = data.drop('ride_id', axis=1)\n",
    "numeric_data = pd.get_dummies(numeric_data, columns=['rideable_type'])"
   ]
  },
  {
   "cell_type": "code",
   "execution_count": 162,
   "id": "af01eaa5",
   "metadata": {},
   "outputs": [
    {
     "name": "stdout",
     "output_type": "stream",
     "text": [
      "                 ride_id  rideable_type           started_at  \\\n",
      "0       C2F7DD78E82EC875  electric_bike  2022-01-13 11:59:47   \n",
      "1       A6CF8980A652D272  electric_bike  2022-01-10 08:41:56   \n",
      "2       BD0F91DFF741C66D   classic_bike  2022-01-25 04:53:40   \n",
      "3       CBB80ED419105406   classic_bike  2022-01-04 00:18:04   \n",
      "4       DDC963BFDDA51EEA   classic_bike  2022-01-20 01:31:10   \n",
      "...                  ...            ...                  ...   \n",
      "103765  8788DA3EDE8FD8AB  electric_bike  2022-01-18 12:36:48   \n",
      "103766  C6C3B64FDC827D8C  electric_bike  2022-01-27 11:00:06   \n",
      "103767  CA281AE7D8B06F5A  electric_bike  2022-01-10 16:14:51   \n",
      "103768  44E348991862319B  electric_bike  2022-01-19 13:22:11   \n",
      "103769  E477C594A182AE58  electric_bike  2022-01-13 17:24:43   \n",
      "\n",
      "                   ended_at             start_station_name start_station_id  \\\n",
      "0       2022-01-13 12:02:44       Glenwood Ave & Touhy Ave              525   \n",
      "1       2022-01-10 08:46:17       Glenwood Ave & Touhy Ave              525   \n",
      "2       2022-01-25 04:58:01  Sheffield Ave & Fullerton Ave     TA1306000016   \n",
      "3       2022-01-04 00:33:00       Clark St & Bryn Mawr Ave     KA1504000151   \n",
      "4       2022-01-20 01:37:12    Michigan Ave & Jackson Blvd     TA1309000002   \n",
      "...                     ...                            ...              ...   \n",
      "103765  2022-01-18 12:46:19   Clinton St & Washington Blvd           WL-012   \n",
      "103766  2022-01-27 11:02:40       Racine Ave & Randolph St            13155   \n",
      "103767  2022-01-10 16:20:58        Broadway & Waveland Ave            13325   \n",
      "103768  2022-01-19 13:24:27       Racine Ave & Randolph St            13155   \n",
      "103769  2022-01-13 17:28:14   Clinton St & Washington Blvd           WL-012   \n",
      "\n",
      "                     end_station_name end_station_id  start_lat  start_lng  \\\n",
      "0                Clark St & Touhy Ave         RP-007  42.012800 -87.665906   \n",
      "1                Clark St & Touhy Ave         RP-007  42.012763 -87.665967   \n",
      "2       Greenview Ave & Fullerton Ave   TA1307000001  41.925602 -87.653708   \n",
      "3           Paulina St & Montrose Ave   TA1309000021  41.983593 -87.669154   \n",
      "4              State St & Randolph St   TA1305000029  41.877850 -87.624080   \n",
      "...                               ...            ...        ...        ...   \n",
      "103765                            NaN            NaN  41.883436 -87.641391   \n",
      "103766                            NaN            NaN  41.884158 -87.656977   \n",
      "103767            Clark St & Grace St   TA1307000127  41.949066 -87.648611   \n",
      "103768                            NaN            NaN  41.884005 -87.657031   \n",
      "103769      Desplaines St & Kinzie St   TA1306000003  41.883248 -87.641244   \n",
      "\n",
      "          end_lat    end_lng member_casual  \n",
      "0       42.012560 -87.674367        casual  \n",
      "1       42.012560 -87.674367        casual  \n",
      "2       41.925330 -87.665800        member  \n",
      "3       41.961507 -87.671387        casual  \n",
      "4       41.884621 -87.627834        member  \n",
      "...           ...        ...           ...  \n",
      "103765  41.890000 -87.620000        casual  \n",
      "103766  41.880000 -87.650000        casual  \n",
      "103767  41.950780 -87.659172        casual  \n",
      "103768  41.880000 -87.660000        casual  \n",
      "103769  41.888716 -87.644448        casual  \n",
      "\n",
      "[103770 rows x 13 columns]\n"
     ]
    }
   ],
   "source": [
    "print(data)"
   ]
  },
  {
   "cell_type": "code",
   "execution_count": 163,
   "id": "49cd52f5",
   "metadata": {},
   "outputs": [
    {
     "name": "stdout",
     "output_type": "stream",
     "text": [
      "                 started_at             ended_at  \\\n",
      "0       2022-01-13 11:59:47  2022-01-13 12:02:44   \n",
      "1       2022-01-10 08:41:56  2022-01-10 08:46:17   \n",
      "2       2022-01-25 04:53:40  2022-01-25 04:58:01   \n",
      "3       2022-01-04 00:18:04  2022-01-04 00:33:00   \n",
      "4       2022-01-20 01:31:10  2022-01-20 01:37:12   \n",
      "...                     ...                  ...   \n",
      "103765  2022-01-18 12:36:48  2022-01-18 12:46:19   \n",
      "103766  2022-01-27 11:00:06  2022-01-27 11:02:40   \n",
      "103767  2022-01-10 16:14:51  2022-01-10 16:20:58   \n",
      "103768  2022-01-19 13:22:11  2022-01-19 13:24:27   \n",
      "103769  2022-01-13 17:24:43  2022-01-13 17:28:14   \n",
      "\n",
      "                   start_station_name start_station_id  \\\n",
      "0            Glenwood Ave & Touhy Ave              525   \n",
      "1            Glenwood Ave & Touhy Ave              525   \n",
      "2       Sheffield Ave & Fullerton Ave     TA1306000016   \n",
      "3            Clark St & Bryn Mawr Ave     KA1504000151   \n",
      "4         Michigan Ave & Jackson Blvd     TA1309000002   \n",
      "...                               ...              ...   \n",
      "103765   Clinton St & Washington Blvd           WL-012   \n",
      "103766       Racine Ave & Randolph St            13155   \n",
      "103767        Broadway & Waveland Ave            13325   \n",
      "103768       Racine Ave & Randolph St            13155   \n",
      "103769   Clinton St & Washington Blvd           WL-012   \n",
      "\n",
      "                     end_station_name end_station_id  start_lat  start_lng  \\\n",
      "0                Clark St & Touhy Ave         RP-007  42.012800 -87.665906   \n",
      "1                Clark St & Touhy Ave         RP-007  42.012763 -87.665967   \n",
      "2       Greenview Ave & Fullerton Ave   TA1307000001  41.925602 -87.653708   \n",
      "3           Paulina St & Montrose Ave   TA1309000021  41.983593 -87.669154   \n",
      "4              State St & Randolph St   TA1305000029  41.877850 -87.624080   \n",
      "...                               ...            ...        ...        ...   \n",
      "103765                            NaN            NaN  41.883436 -87.641391   \n",
      "103766                            NaN            NaN  41.884158 -87.656977   \n",
      "103767            Clark St & Grace St   TA1307000127  41.949066 -87.648611   \n",
      "103768                            NaN            NaN  41.884005 -87.657031   \n",
      "103769      Desplaines St & Kinzie St   TA1306000003  41.883248 -87.641244   \n",
      "\n",
      "          end_lat    end_lng member_casual  rideable_type_classic_bike  \\\n",
      "0       42.012560 -87.674367        casual                           0   \n",
      "1       42.012560 -87.674367        casual                           0   \n",
      "2       41.925330 -87.665800        member                           1   \n",
      "3       41.961507 -87.671387        casual                           1   \n",
      "4       41.884621 -87.627834        member                           1   \n",
      "...           ...        ...           ...                         ...   \n",
      "103765  41.890000 -87.620000        casual                           0   \n",
      "103766  41.880000 -87.650000        casual                           0   \n",
      "103767  41.950780 -87.659172        casual                           0   \n",
      "103768  41.880000 -87.660000        casual                           0   \n",
      "103769  41.888716 -87.644448        casual                           0   \n",
      "\n",
      "        rideable_type_docked_bike  rideable_type_electric_bike  \n",
      "0                               0                            1  \n",
      "1                               0                            1  \n",
      "2                               0                            0  \n",
      "3                               0                            0  \n",
      "4                               0                            0  \n",
      "...                           ...                          ...  \n",
      "103765                          0                            1  \n",
      "103766                          0                            1  \n",
      "103767                          0                            1  \n",
      "103768                          0                            1  \n",
      "103769                          0                            1  \n",
      "\n",
      "[103770 rows x 14 columns]\n"
     ]
    }
   ],
   "source": [
    "print(numeric_data)"
   ]
  },
  {
   "cell_type": "code",
   "execution_count": 164,
   "id": "a1090edd",
   "metadata": {},
   "outputs": [],
   "source": [
    "x=numeric_data.drop('member_casual', axis=1)\n",
    "y=data['member_casual']"
   ]
  },
  {
   "cell_type": "code",
   "execution_count": 165,
   "id": "c8f6ddb3",
   "metadata": {},
   "outputs": [
    {
     "name": "stdout",
     "output_type": "stream",
     "text": [
      "                 started_at             ended_at  \\\n",
      "0       2022-01-13 11:59:47  2022-01-13 12:02:44   \n",
      "1       2022-01-10 08:41:56  2022-01-10 08:46:17   \n",
      "2       2022-01-25 04:53:40  2022-01-25 04:58:01   \n",
      "3       2022-01-04 00:18:04  2022-01-04 00:33:00   \n",
      "4       2022-01-20 01:31:10  2022-01-20 01:37:12   \n",
      "...                     ...                  ...   \n",
      "103765  2022-01-18 12:36:48  2022-01-18 12:46:19   \n",
      "103766  2022-01-27 11:00:06  2022-01-27 11:02:40   \n",
      "103767  2022-01-10 16:14:51  2022-01-10 16:20:58   \n",
      "103768  2022-01-19 13:22:11  2022-01-19 13:24:27   \n",
      "103769  2022-01-13 17:24:43  2022-01-13 17:28:14   \n",
      "\n",
      "                   start_station_name start_station_id  \\\n",
      "0            Glenwood Ave & Touhy Ave              525   \n",
      "1            Glenwood Ave & Touhy Ave              525   \n",
      "2       Sheffield Ave & Fullerton Ave     TA1306000016   \n",
      "3            Clark St & Bryn Mawr Ave     KA1504000151   \n",
      "4         Michigan Ave & Jackson Blvd     TA1309000002   \n",
      "...                               ...              ...   \n",
      "103765   Clinton St & Washington Blvd           WL-012   \n",
      "103766       Racine Ave & Randolph St            13155   \n",
      "103767        Broadway & Waveland Ave            13325   \n",
      "103768       Racine Ave & Randolph St            13155   \n",
      "103769   Clinton St & Washington Blvd           WL-012   \n",
      "\n",
      "                     end_station_name end_station_id  start_lat  start_lng  \\\n",
      "0                Clark St & Touhy Ave         RP-007  42.012800 -87.665906   \n",
      "1                Clark St & Touhy Ave         RP-007  42.012763 -87.665967   \n",
      "2       Greenview Ave & Fullerton Ave   TA1307000001  41.925602 -87.653708   \n",
      "3           Paulina St & Montrose Ave   TA1309000021  41.983593 -87.669154   \n",
      "4              State St & Randolph St   TA1305000029  41.877850 -87.624080   \n",
      "...                               ...            ...        ...        ...   \n",
      "103765                            NaN            NaN  41.883436 -87.641391   \n",
      "103766                            NaN            NaN  41.884158 -87.656977   \n",
      "103767            Clark St & Grace St   TA1307000127  41.949066 -87.648611   \n",
      "103768                            NaN            NaN  41.884005 -87.657031   \n",
      "103769      Desplaines St & Kinzie St   TA1306000003  41.883248 -87.641244   \n",
      "\n",
      "          end_lat    end_lng  rideable_type_classic_bike  \\\n",
      "0       42.012560 -87.674367                           0   \n",
      "1       42.012560 -87.674367                           0   \n",
      "2       41.925330 -87.665800                           1   \n",
      "3       41.961507 -87.671387                           1   \n",
      "4       41.884621 -87.627834                           1   \n",
      "...           ...        ...                         ...   \n",
      "103765  41.890000 -87.620000                           0   \n",
      "103766  41.880000 -87.650000                           0   \n",
      "103767  41.950780 -87.659172                           0   \n",
      "103768  41.880000 -87.660000                           0   \n",
      "103769  41.888716 -87.644448                           0   \n",
      "\n",
      "        rideable_type_docked_bike  rideable_type_electric_bike  \n",
      "0                               0                            1  \n",
      "1                               0                            1  \n",
      "2                               0                            0  \n",
      "3                               0                            0  \n",
      "4                               0                            0  \n",
      "...                           ...                          ...  \n",
      "103765                          0                            1  \n",
      "103766                          0                            1  \n",
      "103767                          0                            1  \n",
      "103768                          0                            1  \n",
      "103769                          0                            1  \n",
      "\n",
      "[103770 rows x 13 columns]\n"
     ]
    }
   ],
   "source": [
    "print(x)"
   ]
  },
  {
   "cell_type": "code",
   "execution_count": 166,
   "id": "9fe151c2",
   "metadata": {},
   "outputs": [
    {
     "name": "stdout",
     "output_type": "stream",
     "text": [
      "0         casual\n",
      "1         casual\n",
      "2         member\n",
      "3         casual\n",
      "4         member\n",
      "           ...  \n",
      "103765    casual\n",
      "103766    casual\n",
      "103767    casual\n",
      "103768    casual\n",
      "103769    casual\n",
      "Name: member_casual, Length: 103770, dtype: object\n"
     ]
    }
   ],
   "source": [
    "print(y)"
   ]
  },
  {
   "cell_type": "code",
   "execution_count": 167,
   "id": "0a9e37a7",
   "metadata": {},
   "outputs": [],
   "source": [
    "label_encoder = LabelEncoder()\n",
    "y = label_encoder.fit_transform(y)"
   ]
  },
  {
   "cell_type": "code",
   "execution_count": 168,
   "id": "98b991ea",
   "metadata": {},
   "outputs": [],
   "source": [
    "x_train, x_test, y_train, y_test = train_test_split(x , y , test_size=0.2, random_state=42)"
   ]
  },
  {
   "cell_type": "code",
   "execution_count": 169,
   "id": "b8b43cfb",
   "metadata": {},
   "outputs": [],
   "source": [
    "model = Sequential()\n",
    "model.add(Input(shape=(x_train.shape[1],)))\n",
    "model.add(Dense(10, activation='relu'))\n",
    "model.add(Dense(1, activation='sigmoid'))"
   ]
  },
  {
   "cell_type": "code",
   "execution_count": 170,
   "id": "26a9982b",
   "metadata": {},
   "outputs": [],
   "source": [
    "model.compile(loss = 'binary_crossentropy', optimizer = 'adam', metrics=['accuracy'])"
   ]
  },
  {
   "cell_type": "code",
   "execution_count": 171,
   "id": "c7339da8",
   "metadata": {},
   "outputs": [
    {
     "ename": "ValueError",
     "evalue": "could not convert string to float: '2022-01-31 08:55:45'",
     "output_type": "error",
     "traceback": [
      "\u001b[1;31m---------------------------------------------------------------------------\u001b[0m",
      "\u001b[1;31mValueError\u001b[0m                                Traceback (most recent call last)",
      "Cell \u001b[1;32mIn[171], line 1\u001b[0m\n\u001b[1;32m----> 1\u001b[0m x_train \u001b[38;5;241m=\u001b[39m \u001b[43mx_train\u001b[49m\u001b[38;5;241;43m.\u001b[39;49m\u001b[43mastype\u001b[49m\u001b[43m(\u001b[49m\u001b[38;5;28;43mfloat\u001b[39;49m\u001b[43m)\u001b[49m\n\u001b[0;32m      2\u001b[0m y_train \u001b[38;5;241m=\u001b[39m y_train\u001b[38;5;241m.\u001b[39mastype(\u001b[38;5;28mfloat\u001b[39m)\n",
      "File \u001b[1;32m~\\anaconda3\\lib\\site-packages\\pandas\\core\\generic.py:6240\u001b[0m, in \u001b[0;36mNDFrame.astype\u001b[1;34m(self, dtype, copy, errors)\u001b[0m\n\u001b[0;32m   6233\u001b[0m     results \u001b[38;5;241m=\u001b[39m [\n\u001b[0;32m   6234\u001b[0m         \u001b[38;5;28mself\u001b[39m\u001b[38;5;241m.\u001b[39miloc[:, i]\u001b[38;5;241m.\u001b[39mastype(dtype, copy\u001b[38;5;241m=\u001b[39mcopy)\n\u001b[0;32m   6235\u001b[0m         \u001b[38;5;28;01mfor\u001b[39;00m i \u001b[38;5;129;01min\u001b[39;00m \u001b[38;5;28mrange\u001b[39m(\u001b[38;5;28mlen\u001b[39m(\u001b[38;5;28mself\u001b[39m\u001b[38;5;241m.\u001b[39mcolumns))\n\u001b[0;32m   6236\u001b[0m     ]\n\u001b[0;32m   6238\u001b[0m \u001b[38;5;28;01melse\u001b[39;00m:\n\u001b[0;32m   6239\u001b[0m     \u001b[38;5;66;03m# else, only a single dtype is given\u001b[39;00m\n\u001b[1;32m-> 6240\u001b[0m     new_data \u001b[38;5;241m=\u001b[39m \u001b[38;5;28;43mself\u001b[39;49m\u001b[38;5;241;43m.\u001b[39;49m\u001b[43m_mgr\u001b[49m\u001b[38;5;241;43m.\u001b[39;49m\u001b[43mastype\u001b[49m\u001b[43m(\u001b[49m\u001b[43mdtype\u001b[49m\u001b[38;5;241;43m=\u001b[39;49m\u001b[43mdtype\u001b[49m\u001b[43m,\u001b[49m\u001b[43m \u001b[49m\u001b[43mcopy\u001b[49m\u001b[38;5;241;43m=\u001b[39;49m\u001b[43mcopy\u001b[49m\u001b[43m,\u001b[49m\u001b[43m \u001b[49m\u001b[43merrors\u001b[49m\u001b[38;5;241;43m=\u001b[39;49m\u001b[43merrors\u001b[49m\u001b[43m)\u001b[49m\n\u001b[0;32m   6241\u001b[0m     \u001b[38;5;28;01mreturn\u001b[39;00m \u001b[38;5;28mself\u001b[39m\u001b[38;5;241m.\u001b[39m_constructor(new_data)\u001b[38;5;241m.\u001b[39m__finalize__(\u001b[38;5;28mself\u001b[39m, method\u001b[38;5;241m=\u001b[39m\u001b[38;5;124m\"\u001b[39m\u001b[38;5;124mastype\u001b[39m\u001b[38;5;124m\"\u001b[39m)\n\u001b[0;32m   6243\u001b[0m \u001b[38;5;66;03m# GH 33113: handle empty frame or series\u001b[39;00m\n",
      "File \u001b[1;32m~\\anaconda3\\lib\\site-packages\\pandas\\core\\internals\\managers.py:448\u001b[0m, in \u001b[0;36mBaseBlockManager.astype\u001b[1;34m(self, dtype, copy, errors)\u001b[0m\n\u001b[0;32m    447\u001b[0m \u001b[38;5;28;01mdef\u001b[39;00m \u001b[38;5;21mastype\u001b[39m(\u001b[38;5;28mself\u001b[39m: T, dtype, copy: \u001b[38;5;28mbool\u001b[39m \u001b[38;5;241m=\u001b[39m \u001b[38;5;28;01mFalse\u001b[39;00m, errors: \u001b[38;5;28mstr\u001b[39m \u001b[38;5;241m=\u001b[39m \u001b[38;5;124m\"\u001b[39m\u001b[38;5;124mraise\u001b[39m\u001b[38;5;124m\"\u001b[39m) \u001b[38;5;241m-\u001b[39m\u001b[38;5;241m>\u001b[39m T:\n\u001b[1;32m--> 448\u001b[0m     \u001b[38;5;28;01mreturn\u001b[39;00m \u001b[38;5;28;43mself\u001b[39;49m\u001b[38;5;241;43m.\u001b[39;49m\u001b[43mapply\u001b[49m\u001b[43m(\u001b[49m\u001b[38;5;124;43m\"\u001b[39;49m\u001b[38;5;124;43mastype\u001b[39;49m\u001b[38;5;124;43m\"\u001b[39;49m\u001b[43m,\u001b[49m\u001b[43m \u001b[49m\u001b[43mdtype\u001b[49m\u001b[38;5;241;43m=\u001b[39;49m\u001b[43mdtype\u001b[49m\u001b[43m,\u001b[49m\u001b[43m \u001b[49m\u001b[43mcopy\u001b[49m\u001b[38;5;241;43m=\u001b[39;49m\u001b[43mcopy\u001b[49m\u001b[43m,\u001b[49m\u001b[43m \u001b[49m\u001b[43merrors\u001b[49m\u001b[38;5;241;43m=\u001b[39;49m\u001b[43merrors\u001b[49m\u001b[43m)\u001b[49m\n",
      "File \u001b[1;32m~\\anaconda3\\lib\\site-packages\\pandas\\core\\internals\\managers.py:352\u001b[0m, in \u001b[0;36mBaseBlockManager.apply\u001b[1;34m(self, f, align_keys, ignore_failures, **kwargs)\u001b[0m\n\u001b[0;32m    350\u001b[0m         applied \u001b[38;5;241m=\u001b[39m b\u001b[38;5;241m.\u001b[39mapply(f, \u001b[38;5;241m*\u001b[39m\u001b[38;5;241m*\u001b[39mkwargs)\n\u001b[0;32m    351\u001b[0m     \u001b[38;5;28;01melse\u001b[39;00m:\n\u001b[1;32m--> 352\u001b[0m         applied \u001b[38;5;241m=\u001b[39m \u001b[38;5;28mgetattr\u001b[39m(b, f)(\u001b[38;5;241m*\u001b[39m\u001b[38;5;241m*\u001b[39mkwargs)\n\u001b[0;32m    353\u001b[0m \u001b[38;5;28;01mexcept\u001b[39;00m (\u001b[38;5;167;01mTypeError\u001b[39;00m, \u001b[38;5;167;01mNotImplementedError\u001b[39;00m):\n\u001b[0;32m    354\u001b[0m     \u001b[38;5;28;01mif\u001b[39;00m \u001b[38;5;129;01mnot\u001b[39;00m ignore_failures:\n",
      "File \u001b[1;32m~\\anaconda3\\lib\\site-packages\\pandas\\core\\internals\\blocks.py:526\u001b[0m, in \u001b[0;36mBlock.astype\u001b[1;34m(self, dtype, copy, errors)\u001b[0m\n\u001b[0;32m    508\u001b[0m \u001b[38;5;250m\u001b[39m\u001b[38;5;124;03m\"\"\"\u001b[39;00m\n\u001b[0;32m    509\u001b[0m \u001b[38;5;124;03mCoerce to the new dtype.\u001b[39;00m\n\u001b[0;32m    510\u001b[0m \n\u001b[1;32m   (...)\u001b[0m\n\u001b[0;32m    522\u001b[0m \u001b[38;5;124;03mBlock\u001b[39;00m\n\u001b[0;32m    523\u001b[0m \u001b[38;5;124;03m\"\"\"\u001b[39;00m\n\u001b[0;32m    524\u001b[0m values \u001b[38;5;241m=\u001b[39m \u001b[38;5;28mself\u001b[39m\u001b[38;5;241m.\u001b[39mvalues\n\u001b[1;32m--> 526\u001b[0m new_values \u001b[38;5;241m=\u001b[39m \u001b[43mastype_array_safe\u001b[49m\u001b[43m(\u001b[49m\u001b[43mvalues\u001b[49m\u001b[43m,\u001b[49m\u001b[43m \u001b[49m\u001b[43mdtype\u001b[49m\u001b[43m,\u001b[49m\u001b[43m \u001b[49m\u001b[43mcopy\u001b[49m\u001b[38;5;241;43m=\u001b[39;49m\u001b[43mcopy\u001b[49m\u001b[43m,\u001b[49m\u001b[43m \u001b[49m\u001b[43merrors\u001b[49m\u001b[38;5;241;43m=\u001b[39;49m\u001b[43merrors\u001b[49m\u001b[43m)\u001b[49m\n\u001b[0;32m    528\u001b[0m new_values \u001b[38;5;241m=\u001b[39m maybe_coerce_values(new_values)\n\u001b[0;32m    529\u001b[0m newb \u001b[38;5;241m=\u001b[39m \u001b[38;5;28mself\u001b[39m\u001b[38;5;241m.\u001b[39mmake_block(new_values)\n",
      "File \u001b[1;32m~\\anaconda3\\lib\\site-packages\\pandas\\core\\dtypes\\astype.py:299\u001b[0m, in \u001b[0;36mastype_array_safe\u001b[1;34m(values, dtype, copy, errors)\u001b[0m\n\u001b[0;32m    296\u001b[0m     \u001b[38;5;28;01mreturn\u001b[39;00m values\u001b[38;5;241m.\u001b[39mcopy()\n\u001b[0;32m    298\u001b[0m \u001b[38;5;28;01mtry\u001b[39;00m:\n\u001b[1;32m--> 299\u001b[0m     new_values \u001b[38;5;241m=\u001b[39m \u001b[43mastype_array\u001b[49m\u001b[43m(\u001b[49m\u001b[43mvalues\u001b[49m\u001b[43m,\u001b[49m\u001b[43m \u001b[49m\u001b[43mdtype\u001b[49m\u001b[43m,\u001b[49m\u001b[43m \u001b[49m\u001b[43mcopy\u001b[49m\u001b[38;5;241;43m=\u001b[39;49m\u001b[43mcopy\u001b[49m\u001b[43m)\u001b[49m\n\u001b[0;32m    300\u001b[0m \u001b[38;5;28;01mexcept\u001b[39;00m (\u001b[38;5;167;01mValueError\u001b[39;00m, \u001b[38;5;167;01mTypeError\u001b[39;00m):\n\u001b[0;32m    301\u001b[0m     \u001b[38;5;66;03m# e.g. astype_nansafe can fail on object-dtype of strings\u001b[39;00m\n\u001b[0;32m    302\u001b[0m     \u001b[38;5;66;03m#  trying to convert to float\u001b[39;00m\n\u001b[0;32m    303\u001b[0m     \u001b[38;5;28;01mif\u001b[39;00m errors \u001b[38;5;241m==\u001b[39m \u001b[38;5;124m\"\u001b[39m\u001b[38;5;124mignore\u001b[39m\u001b[38;5;124m\"\u001b[39m:\n",
      "File \u001b[1;32m~\\anaconda3\\lib\\site-packages\\pandas\\core\\dtypes\\astype.py:230\u001b[0m, in \u001b[0;36mastype_array\u001b[1;34m(values, dtype, copy)\u001b[0m\n\u001b[0;32m    227\u001b[0m     values \u001b[38;5;241m=\u001b[39m values\u001b[38;5;241m.\u001b[39mastype(dtype, copy\u001b[38;5;241m=\u001b[39mcopy)\n\u001b[0;32m    229\u001b[0m \u001b[38;5;28;01melse\u001b[39;00m:\n\u001b[1;32m--> 230\u001b[0m     values \u001b[38;5;241m=\u001b[39m \u001b[43mastype_nansafe\u001b[49m\u001b[43m(\u001b[49m\u001b[43mvalues\u001b[49m\u001b[43m,\u001b[49m\u001b[43m \u001b[49m\u001b[43mdtype\u001b[49m\u001b[43m,\u001b[49m\u001b[43m \u001b[49m\u001b[43mcopy\u001b[49m\u001b[38;5;241;43m=\u001b[39;49m\u001b[43mcopy\u001b[49m\u001b[43m)\u001b[49m\n\u001b[0;32m    232\u001b[0m \u001b[38;5;66;03m# in pandas we don't store numpy str dtypes, so convert to object\u001b[39;00m\n\u001b[0;32m    233\u001b[0m \u001b[38;5;28;01mif\u001b[39;00m \u001b[38;5;28misinstance\u001b[39m(dtype, np\u001b[38;5;241m.\u001b[39mdtype) \u001b[38;5;129;01mand\u001b[39;00m \u001b[38;5;28missubclass\u001b[39m(values\u001b[38;5;241m.\u001b[39mdtype\u001b[38;5;241m.\u001b[39mtype, \u001b[38;5;28mstr\u001b[39m):\n",
      "File \u001b[1;32m~\\anaconda3\\lib\\site-packages\\pandas\\core\\dtypes\\astype.py:170\u001b[0m, in \u001b[0;36mastype_nansafe\u001b[1;34m(arr, dtype, copy, skipna)\u001b[0m\n\u001b[0;32m    166\u001b[0m     \u001b[38;5;28;01mraise\u001b[39;00m \u001b[38;5;167;01mValueError\u001b[39;00m(msg)\n\u001b[0;32m    168\u001b[0m \u001b[38;5;28;01mif\u001b[39;00m copy \u001b[38;5;129;01mor\u001b[39;00m is_object_dtype(arr\u001b[38;5;241m.\u001b[39mdtype) \u001b[38;5;129;01mor\u001b[39;00m is_object_dtype(dtype):\n\u001b[0;32m    169\u001b[0m     \u001b[38;5;66;03m# Explicit copy, or required since NumPy can't view from / to object.\u001b[39;00m\n\u001b[1;32m--> 170\u001b[0m     \u001b[38;5;28;01mreturn\u001b[39;00m \u001b[43marr\u001b[49m\u001b[38;5;241;43m.\u001b[39;49m\u001b[43mastype\u001b[49m\u001b[43m(\u001b[49m\u001b[43mdtype\u001b[49m\u001b[43m,\u001b[49m\u001b[43m \u001b[49m\u001b[43mcopy\u001b[49m\u001b[38;5;241;43m=\u001b[39;49m\u001b[38;5;28;43;01mTrue\u001b[39;49;00m\u001b[43m)\u001b[49m\n\u001b[0;32m    172\u001b[0m \u001b[38;5;28;01mreturn\u001b[39;00m arr\u001b[38;5;241m.\u001b[39mastype(dtype, copy\u001b[38;5;241m=\u001b[39mcopy)\n",
      "\u001b[1;31mValueError\u001b[0m: could not convert string to float: '2022-01-31 08:55:45'"
     ]
    }
   ],
   "source": [
    "x_train = x_train.astype(float)\n",
    "y_train = y_train.astype(float)"
   ]
  },
  {
   "cell_type": "code",
   "execution_count": null,
   "id": "75fb015f",
   "metadata": {},
   "outputs": [],
   "source": [
    "model.fit(x_train, y_train, epochs=100, batch_size=32, verbose=1)"
   ]
  },
  {
   "cell_type": "code",
   "execution_count": null,
   "id": "8f91575e",
   "metadata": {},
   "outputs": [],
   "source": [
    "loss, accuracy = model.evaluate(x_test, y_test)"
   ]
  },
  {
   "cell_type": "code",
   "execution_count": null,
   "id": "5e242b02",
   "metadata": {},
   "outputs": [],
   "source": [
    "print(f'Test accuracy: {accuracy * 100:.2f}%')"
   ]
  },
  {
   "cell_type": "code",
   "execution_count": null,
   "id": "65527346",
   "metadata": {},
   "outputs": [],
   "source": []
  },
  {
   "cell_type": "code",
   "execution_count": null,
   "id": "f8b04e37",
   "metadata": {},
   "outputs": [],
   "source": []
  },
  {
   "cell_type": "code",
   "execution_count": null,
   "id": "33c07cce",
   "metadata": {},
   "outputs": [],
   "source": []
  }
 ],
 "metadata": {
  "kernelspec": {
   "display_name": "Python 3 (ipykernel)",
   "language": "python",
   "name": "python3"
  },
  "language_info": {
   "codemirror_mode": {
    "name": "ipython",
    "version": 3
   },
   "file_extension": ".py",
   "mimetype": "text/x-python",
   "name": "python",
   "nbconvert_exporter": "python",
   "pygments_lexer": "ipython3",
   "version": "3.10.9"
  }
 },
 "nbformat": 4,
 "nbformat_minor": 5
}
